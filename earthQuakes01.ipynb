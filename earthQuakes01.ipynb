{
 "cells": [
  {
   "cell_type": "code",
   "execution_count": 1,
   "id": "753d0741",
   "metadata": {},
   "outputs": [],
   "source": [
    "%matplotlib inline\n",
    "\n",
    "import matplotlib.pyplot as plt\n",
    "import pandas as pd\n",
    "import numpy as np\n",
    "import csv\n",
    "import plotly.express as px\n",
    "\n",
    "from sklearn.model_selection import train_test_split\n",
    "from sklearn.preprocessing import StandardScaler\n",
    "\n",
    "from datetime import datetime\n",
    "from sklearn.cluster import KMeans\n",
    "import seaborn as sns"
   ]
  },
  {
   "cell_type": "code",
   "execution_count": 2,
   "id": "c0cb5190",
   "metadata": {},
   "outputs": [],
   "source": [
    "Earthquakes1 = pd.read_csv(\"earthquakes1.txt\", delimiter = ';') \n",
    "  \n",
    "# storing this dataframe in a csv file \n",
    "Earthquakes1.to_csv('earthquakes1.csv', index = None)"
   ]
  },
  {
   "cell_type": "code",
   "execution_count": 4,
   "id": "8b9f1aea",
   "metadata": {},
   "outputs": [
    {
     "data": {
      "text/plain": [
       "(483270, 11)"
      ]
     },
     "execution_count": 4,
     "metadata": {},
     "output_type": "execute_result"
    }
   ],
   "source": [
    "Earthquakes1.shape"
   ]
  },
  {
   "cell_type": "code",
   "execution_count": 5,
   "id": "717fa2ae",
   "metadata": {},
   "outputs": [
    {
     "data": {
      "text/html": [
       "<div>\n",
       "<style scoped>\n",
       "    .dataframe tbody tr th:only-of-type {\n",
       "        vertical-align: middle;\n",
       "    }\n",
       "\n",
       "    .dataframe tbody tr th {\n",
       "        vertical-align: top;\n",
       "    }\n",
       "\n",
       "    .dataframe thead th {\n",
       "        text-align: right;\n",
       "    }\n",
       "</style>\n",
       "<table border=\"1\" class=\"dataframe\">\n",
       "  <thead>\n",
       "    <tr style=\"text-align: right;\">\n",
       "      <th></th>\n",
       "      <th>XCoord</th>\n",
       "      <th>YCoord</th>\n",
       "      <th>mag</th>\n",
       "      <th>magType</th>\n",
       "      <th>place</th>\n",
       "      <th>latitude</th>\n",
       "      <th>longitude</th>\n",
       "      <th>kmDepth</th>\n",
       "      <th>depth</th>\n",
       "      <th>eventTime</th>\n",
       "      <th>eventType</th>\n",
       "    </tr>\n",
       "  </thead>\n",
       "  <tbody>\n",
       "    <tr>\n",
       "      <th>0</th>\n",
       "      <td>67,98700000</td>\n",
       "      <td>38,29000000</td>\n",
       "      <td>4,600000</td>\n",
       "      <td>m</td>\n",
       "      <td>8 km ENE of Denov, Uzbekistan</td>\n",
       "      <td>38,290001</td>\n",
       "      <td>67,987000</td>\n",
       "      <td>45,700001</td>\n",
       "      <td>45,700001</td>\n",
       "      <td>2007-12-21 23:49:31</td>\n",
       "      <td>Earthquake</td>\n",
       "    </tr>\n",
       "    <tr>\n",
       "      <th>1</th>\n",
       "      <td>88,18000000</td>\n",
       "      <td>42,39200000</td>\n",
       "      <td>4,100000</td>\n",
       "      <td>m</td>\n",
       "      <td>102 km SW of Turpan, China</td>\n",
       "      <td>42,391998</td>\n",
       "      <td>88,180000</td>\n",
       "      <td>36,299999</td>\n",
       "      <td>36,299999</td>\n",
       "      <td>2007-11-18 11:35:20</td>\n",
       "      <td>Earthquake</td>\n",
       "    </tr>\n",
       "    <tr>\n",
       "      <th>2</th>\n",
       "      <td>166,25200000</td>\n",
       "      <td>-10,98800000</td>\n",
       "      <td>4,700000</td>\n",
       "      <td>m</td>\n",
       "      <td>57 km ESE of Lata, Solomon Islands</td>\n",
       "      <td>-10,988000</td>\n",
       "      <td>166,251999</td>\n",
       "      <td>183,300003</td>\n",
       "      <td>183,300003</td>\n",
       "      <td>2007-12-21 22:58:26</td>\n",
       "      <td>Earthquake</td>\n",
       "    </tr>\n",
       "    <tr>\n",
       "      <th>3</th>\n",
       "      <td>29,67600000</td>\n",
       "      <td>38,96700000</td>\n",
       "      <td>4,000000</td>\n",
       "      <td>m</td>\n",
       "      <td>Western Turkey</td>\n",
       "      <td>38,966999</td>\n",
       "      <td>29,676001</td>\n",
       "      <td>37,799999</td>\n",
       "      <td>37,799999</td>\n",
       "      <td>2007-11-18 10:48:28</td>\n",
       "      <td>Earthquake</td>\n",
       "    </tr>\n",
       "    <tr>\n",
       "      <th>4</th>\n",
       "      <td>178,37000000</td>\n",
       "      <td>-38,82000000</td>\n",
       "      <td>4,800000</td>\n",
       "      <td>ml</td>\n",
       "      <td>36 km ESE of Gisborne, New Zealand</td>\n",
       "      <td>-38,820000</td>\n",
       "      <td>178,369995</td>\n",
       "      <td>34,000000</td>\n",
       "      <td>34,000000</td>\n",
       "      <td>2007-12-21 22:35:11</td>\n",
       "      <td>Earthquake</td>\n",
       "    </tr>\n",
       "  </tbody>\n",
       "</table>\n",
       "</div>"
      ],
      "text/plain": [
       "         XCoord        YCoord       mag magType  \\\n",
       "0   67,98700000   38,29000000  4,600000       m   \n",
       "1   88,18000000   42,39200000  4,100000       m   \n",
       "2  166,25200000  -10,98800000  4,700000       m   \n",
       "3   29,67600000   38,96700000  4,000000       m   \n",
       "4  178,37000000  -38,82000000  4,800000      ml   \n",
       "\n",
       "                                place    latitude   longitude     kmDepth  \\\n",
       "0       8 km ENE of Denov, Uzbekistan   38,290001   67,987000   45,700001   \n",
       "1          102 km SW of Turpan, China   42,391998   88,180000   36,299999   \n",
       "2  57 km ESE of Lata, Solomon Islands  -10,988000  166,251999  183,300003   \n",
       "3                      Western Turkey   38,966999   29,676001   37,799999   \n",
       "4  36 km ESE of Gisborne, New Zealand  -38,820000  178,369995   34,000000   \n",
       "\n",
       "        depth            eventTime   eventType  \n",
       "0   45,700001  2007-12-21 23:49:31  Earthquake  \n",
       "1   36,299999  2007-11-18 11:35:20  Earthquake  \n",
       "2  183,300003  2007-12-21 22:58:26  Earthquake  \n",
       "3   37,799999  2007-11-18 10:48:28  Earthquake  \n",
       "4   34,000000  2007-12-21 22:35:11  Earthquake  "
      ]
     },
     "execution_count": 5,
     "metadata": {},
     "output_type": "execute_result"
    }
   ],
   "source": [
    "Earthquakes1.head()"
   ]
  },
  {
   "cell_type": "code",
   "execution_count": 6,
   "id": "875a5cc7",
   "metadata": {},
   "outputs": [
    {
     "name": "stdout",
     "output_type": "stream",
     "text": [
      "XCoord\n",
      "YCoord\n",
      "mag\n",
      "magType\n",
      "place\n",
      "latitude\n",
      "longitude\n",
      "kmDepth\n",
      "depth\n",
      "eventTime\n",
      "eventType\n"
     ]
    }
   ],
   "source": [
    "#columns of dataframe\n",
    "for col in Earthquakes1.columns:\n",
    "    print(col)"
   ]
  },
  {
   "cell_type": "code",
   "execution_count": 7,
   "id": "27cafd01",
   "metadata": {},
   "outputs": [],
   "source": [
    "# Remove three columns as index base\n",
    "Earthquakes1.drop(Earthquakes1.columns[[0, 1, 2,3,4,5,6,7,8]], axis=1, inplace=True)"
   ]
  },
  {
   "cell_type": "code",
   "execution_count": 8,
   "id": "aaf3ab30",
   "metadata": {},
   "outputs": [
    {
     "data": {
      "text/html": [
       "<div>\n",
       "<style scoped>\n",
       "    .dataframe tbody tr th:only-of-type {\n",
       "        vertical-align: middle;\n",
       "    }\n",
       "\n",
       "    .dataframe tbody tr th {\n",
       "        vertical-align: top;\n",
       "    }\n",
       "\n",
       "    .dataframe thead th {\n",
       "        text-align: right;\n",
       "    }\n",
       "</style>\n",
       "<table border=\"1\" class=\"dataframe\">\n",
       "  <thead>\n",
       "    <tr style=\"text-align: right;\">\n",
       "      <th></th>\n",
       "      <th>eventTime</th>\n",
       "      <th>eventType</th>\n",
       "    </tr>\n",
       "  </thead>\n",
       "  <tbody>\n",
       "    <tr>\n",
       "      <th>0</th>\n",
       "      <td>2007-12-21 23:49:31</td>\n",
       "      <td>Earthquake</td>\n",
       "    </tr>\n",
       "    <tr>\n",
       "      <th>1</th>\n",
       "      <td>2007-11-18 11:35:20</td>\n",
       "      <td>Earthquake</td>\n",
       "    </tr>\n",
       "    <tr>\n",
       "      <th>2</th>\n",
       "      <td>2007-12-21 22:58:26</td>\n",
       "      <td>Earthquake</td>\n",
       "    </tr>\n",
       "    <tr>\n",
       "      <th>3</th>\n",
       "      <td>2007-11-18 10:48:28</td>\n",
       "      <td>Earthquake</td>\n",
       "    </tr>\n",
       "    <tr>\n",
       "      <th>4</th>\n",
       "      <td>2007-12-21 22:35:11</td>\n",
       "      <td>Earthquake</td>\n",
       "    </tr>\n",
       "  </tbody>\n",
       "</table>\n",
       "</div>"
      ],
      "text/plain": [
       "             eventTime   eventType\n",
       "0  2007-12-21 23:49:31  Earthquake\n",
       "1  2007-11-18 11:35:20  Earthquake\n",
       "2  2007-12-21 22:58:26  Earthquake\n",
       "3  2007-11-18 10:48:28  Earthquake\n",
       "4  2007-12-21 22:35:11  Earthquake"
      ]
     },
     "execution_count": 8,
     "metadata": {},
     "output_type": "execute_result"
    }
   ],
   "source": [
    "Earthquakes1.head()"
   ]
  },
  {
   "cell_type": "code",
   "execution_count": 9,
   "id": "07c41550",
   "metadata": {},
   "outputs": [
    {
     "data": {
      "text/plain": [
       "eventTime    object\n",
       "eventType    object\n",
       "dtype: object"
      ]
     },
     "execution_count": 9,
     "metadata": {},
     "output_type": "execute_result"
    }
   ],
   "source": [
    "Earthquakes1.dtypes"
   ]
  },
  {
   "cell_type": "code",
   "execution_count": 10,
   "id": "df5ad402",
   "metadata": {},
   "outputs": [],
   "source": [
    "# overwriting data after changing format\n",
    "Earthquakes1['eventTime']= pd.to_datetime(Earthquakes1['eventTime'])"
   ]
  },
  {
   "cell_type": "code",
   "execution_count": 11,
   "id": "0daf04d3",
   "metadata": {},
   "outputs": [
    {
     "data": {
      "text/plain": [
       "eventTime    datetime64[ns]\n",
       "eventType            object\n",
       "dtype: object"
      ]
     },
     "execution_count": 11,
     "metadata": {},
     "output_type": "execute_result"
    }
   ],
   "source": [
    "Earthquakes1.dtypes"
   ]
  },
  {
   "cell_type": "code",
   "execution_count": 12,
   "id": "67989e08",
   "metadata": {},
   "outputs": [
    {
     "data": {
      "text/html": [
       "<div>\n",
       "<style scoped>\n",
       "    .dataframe tbody tr th:only-of-type {\n",
       "        vertical-align: middle;\n",
       "    }\n",
       "\n",
       "    .dataframe tbody tr th {\n",
       "        vertical-align: top;\n",
       "    }\n",
       "\n",
       "    .dataframe thead th {\n",
       "        text-align: right;\n",
       "    }\n",
       "</style>\n",
       "<table border=\"1\" class=\"dataframe\">\n",
       "  <thead>\n",
       "    <tr style=\"text-align: right;\">\n",
       "      <th></th>\n",
       "      <th>eventTime</th>\n",
       "      <th>eventType</th>\n",
       "    </tr>\n",
       "  </thead>\n",
       "  <tbody>\n",
       "    <tr>\n",
       "      <th>0</th>\n",
       "      <td>2007-12-21 23:49:31</td>\n",
       "      <td>Earthquake</td>\n",
       "    </tr>\n",
       "    <tr>\n",
       "      <th>1</th>\n",
       "      <td>2007-11-18 11:35:20</td>\n",
       "      <td>Earthquake</td>\n",
       "    </tr>\n",
       "    <tr>\n",
       "      <th>2</th>\n",
       "      <td>2007-12-21 22:58:26</td>\n",
       "      <td>Earthquake</td>\n",
       "    </tr>\n",
       "    <tr>\n",
       "      <th>3</th>\n",
       "      <td>2007-11-18 10:48:28</td>\n",
       "      <td>Earthquake</td>\n",
       "    </tr>\n",
       "    <tr>\n",
       "      <th>4</th>\n",
       "      <td>2007-12-21 22:35:11</td>\n",
       "      <td>Earthquake</td>\n",
       "    </tr>\n",
       "  </tbody>\n",
       "</table>\n",
       "</div>"
      ],
      "text/plain": [
       "            eventTime   eventType\n",
       "0 2007-12-21 23:49:31  Earthquake\n",
       "1 2007-11-18 11:35:20  Earthquake\n",
       "2 2007-12-21 22:58:26  Earthquake\n",
       "3 2007-11-18 10:48:28  Earthquake\n",
       "4 2007-12-21 22:35:11  Earthquake"
      ]
     },
     "execution_count": 12,
     "metadata": {},
     "output_type": "execute_result"
    }
   ],
   "source": [
    "Earthquakes1.head()"
   ]
  },
  {
   "cell_type": "code",
   "execution_count": 13,
   "id": "5df0b15a",
   "metadata": {},
   "outputs": [],
   "source": [
    "#removing the time component\n",
    "from datetime import datetime\n",
    "Earthquakes1['eventTime'] = Earthquakes1['eventTime'].apply(lambda x: x.date())"
   ]
  },
  {
   "cell_type": "code",
   "execution_count": 14,
   "id": "52eb1b28",
   "metadata": {},
   "outputs": [
    {
     "data": {
      "text/html": [
       "<div>\n",
       "<style scoped>\n",
       "    .dataframe tbody tr th:only-of-type {\n",
       "        vertical-align: middle;\n",
       "    }\n",
       "\n",
       "    .dataframe tbody tr th {\n",
       "        vertical-align: top;\n",
       "    }\n",
       "\n",
       "    .dataframe thead th {\n",
       "        text-align: right;\n",
       "    }\n",
       "</style>\n",
       "<table border=\"1\" class=\"dataframe\">\n",
       "  <thead>\n",
       "    <tr style=\"text-align: right;\">\n",
       "      <th></th>\n",
       "      <th>eventTime</th>\n",
       "      <th>eventType</th>\n",
       "    </tr>\n",
       "  </thead>\n",
       "  <tbody>\n",
       "    <tr>\n",
       "      <th>0</th>\n",
       "      <td>2007-12-21</td>\n",
       "      <td>Earthquake</td>\n",
       "    </tr>\n",
       "    <tr>\n",
       "      <th>1</th>\n",
       "      <td>2007-11-18</td>\n",
       "      <td>Earthquake</td>\n",
       "    </tr>\n",
       "    <tr>\n",
       "      <th>2</th>\n",
       "      <td>2007-12-21</td>\n",
       "      <td>Earthquake</td>\n",
       "    </tr>\n",
       "    <tr>\n",
       "      <th>3</th>\n",
       "      <td>2007-11-18</td>\n",
       "      <td>Earthquake</td>\n",
       "    </tr>\n",
       "    <tr>\n",
       "      <th>4</th>\n",
       "      <td>2007-12-21</td>\n",
       "      <td>Earthquake</td>\n",
       "    </tr>\n",
       "  </tbody>\n",
       "</table>\n",
       "</div>"
      ],
      "text/plain": [
       "    eventTime   eventType\n",
       "0  2007-12-21  Earthquake\n",
       "1  2007-11-18  Earthquake\n",
       "2  2007-12-21  Earthquake\n",
       "3  2007-11-18  Earthquake\n",
       "4  2007-12-21  Earthquake"
      ]
     },
     "execution_count": 14,
     "metadata": {},
     "output_type": "execute_result"
    }
   ],
   "source": [
    "Earthquakes1.head()"
   ]
  },
  {
   "cell_type": "code",
   "execution_count": 15,
   "id": "5272927f",
   "metadata": {},
   "outputs": [
    {
     "data": {
      "text/plain": [
       "array(['Earthquake', 'Nuclear Explosion', 'Quarry Blast', 'Other Event',\n",
       "       'Explosion', 'Mine Collapse', 'Rock Burst', 'Sonic Boom',\n",
       "       'Mining Explosion', 'Landslide', 'Collapse', 'Volcanic Eruption'],\n",
       "      dtype=object)"
      ]
     },
     "execution_count": 15,
     "metadata": {},
     "output_type": "execute_result"
    }
   ],
   "source": [
    "Earthquakes1.eventType.unique()"
   ]
  },
  {
   "cell_type": "code",
   "execution_count": 16,
   "id": "c6e694ef",
   "metadata": {},
   "outputs": [
    {
     "data": {
      "text/plain": [
       "Earthquake           482420\n",
       "Nuclear Explosion       707\n",
       "Volcanic Eruption        63\n",
       "Explosion                29\n",
       "Mine Collapse            18\n",
       "Quarry Blast             10\n",
       "Rock Burst                7\n",
       "Other Event               6\n",
       "Mining Explosion          6\n",
       "Sonic Boom                2\n",
       "Landslide                 1\n",
       "Collapse                  1\n",
       "Name: eventType, dtype: int64"
      ]
     },
     "execution_count": 16,
     "metadata": {},
     "output_type": "execute_result"
    }
   ],
   "source": [
    "Earthquakes1.eventType.value_counts()"
   ]
  },
  {
   "cell_type": "code",
   "execution_count": 17,
   "id": "3c8ce1a3",
   "metadata": {},
   "outputs": [],
   "source": [
    "Earthquakes2=Earthquakes1.query(\"eventType == 'Earthquake'\")"
   ]
  },
  {
   "cell_type": "code",
   "execution_count": 18,
   "id": "9cdd46da",
   "metadata": {},
   "outputs": [
    {
     "data": {
      "text/plain": [
       "Earthquake    482420\n",
       "Name: eventType, dtype: int64"
      ]
     },
     "execution_count": 18,
     "metadata": {},
     "output_type": "execute_result"
    }
   ],
   "source": [
    "Earthquakes2.eventType.value_counts()"
   ]
  },
  {
   "cell_type": "code",
   "execution_count": 19,
   "id": "6f500ca3",
   "metadata": {},
   "outputs": [
    {
     "data": {
      "text/html": [
       "<div>\n",
       "<style scoped>\n",
       "    .dataframe tbody tr th:only-of-type {\n",
       "        vertical-align: middle;\n",
       "    }\n",
       "\n",
       "    .dataframe tbody tr th {\n",
       "        vertical-align: top;\n",
       "    }\n",
       "\n",
       "    .dataframe thead th {\n",
       "        text-align: right;\n",
       "    }\n",
       "</style>\n",
       "<table border=\"1\" class=\"dataframe\">\n",
       "  <thead>\n",
       "    <tr style=\"text-align: right;\">\n",
       "      <th></th>\n",
       "      <th>eventTime</th>\n",
       "      <th>eventType</th>\n",
       "    </tr>\n",
       "  </thead>\n",
       "  <tbody>\n",
       "    <tr>\n",
       "      <th>0</th>\n",
       "      <td>2007-12-21</td>\n",
       "      <td>Earthquake</td>\n",
       "    </tr>\n",
       "    <tr>\n",
       "      <th>1</th>\n",
       "      <td>2007-11-18</td>\n",
       "      <td>Earthquake</td>\n",
       "    </tr>\n",
       "    <tr>\n",
       "      <th>2</th>\n",
       "      <td>2007-12-21</td>\n",
       "      <td>Earthquake</td>\n",
       "    </tr>\n",
       "    <tr>\n",
       "      <th>3</th>\n",
       "      <td>2007-11-18</td>\n",
       "      <td>Earthquake</td>\n",
       "    </tr>\n",
       "    <tr>\n",
       "      <th>4</th>\n",
       "      <td>2007-12-21</td>\n",
       "      <td>Earthquake</td>\n",
       "    </tr>\n",
       "  </tbody>\n",
       "</table>\n",
       "</div>"
      ],
      "text/plain": [
       "    eventTime   eventType\n",
       "0  2007-12-21  Earthquake\n",
       "1  2007-11-18  Earthquake\n",
       "2  2007-12-21  Earthquake\n",
       "3  2007-11-18  Earthquake\n",
       "4  2007-12-21  Earthquake"
      ]
     },
     "execution_count": 19,
     "metadata": {},
     "output_type": "execute_result"
    }
   ],
   "source": [
    "Earthquakes2.head()"
   ]
  },
  {
   "cell_type": "code",
   "execution_count": 20,
   "id": "7082b0b6",
   "metadata": {},
   "outputs": [
    {
     "data": {
      "text/plain": [
       "array(['Earthquake'], dtype=object)"
      ]
     },
     "execution_count": 20,
     "metadata": {},
     "output_type": "execute_result"
    }
   ],
   "source": [
    "Earthquakes2.eventType.unique()"
   ]
  },
  {
   "cell_type": "code",
   "execution_count": 21,
   "id": "8366c6e9",
   "metadata": {},
   "outputs": [
    {
     "data": {
      "text/html": [
       "<div>\n",
       "<style scoped>\n",
       "    .dataframe tbody tr th:only-of-type {\n",
       "        vertical-align: middle;\n",
       "    }\n",
       "\n",
       "    .dataframe tbody tr th {\n",
       "        vertical-align: top;\n",
       "    }\n",
       "\n",
       "    .dataframe thead th {\n",
       "        text-align: right;\n",
       "    }\n",
       "</style>\n",
       "<table border=\"1\" class=\"dataframe\">\n",
       "  <thead>\n",
       "    <tr style=\"text-align: right;\">\n",
       "      <th></th>\n",
       "      <th>Noccurences</th>\n",
       "      <th>Date</th>\n",
       "    </tr>\n",
       "  </thead>\n",
       "  <tbody>\n",
       "    <tr>\n",
       "      <th>0</th>\n",
       "      <td>565</td>\n",
       "      <td>2011-03-11</td>\n",
       "    </tr>\n",
       "    <tr>\n",
       "      <th>1</th>\n",
       "      <td>523</td>\n",
       "      <td>2011-03-12</td>\n",
       "    </tr>\n",
       "    <tr>\n",
       "      <th>2</th>\n",
       "      <td>370</td>\n",
       "      <td>2011-03-13</td>\n",
       "    </tr>\n",
       "    <tr>\n",
       "      <th>3</th>\n",
       "      <td>349</td>\n",
       "      <td>2010-02-27</td>\n",
       "    </tr>\n",
       "    <tr>\n",
       "      <th>4</th>\n",
       "      <td>307</td>\n",
       "      <td>2004-12-26</td>\n",
       "    </tr>\n",
       "  </tbody>\n",
       "</table>\n",
       "</div>"
      ],
      "text/plain": [
       "   Noccurences        Date\n",
       "0          565  2011-03-11\n",
       "1          523  2011-03-12\n",
       "2          370  2011-03-13\n",
       "3          349  2010-02-27\n",
       "4          307  2004-12-26"
      ]
     },
     "execution_count": 21,
     "metadata": {},
     "output_type": "execute_result"
    }
   ],
   "source": [
    "counts = Earthquakes2['eventTime'].value_counts()\n",
    "Earthquakes3 = counts.to_frame()\n",
    "\n",
    "\n",
    "\n",
    "Earthquakes3['Date'] = Earthquakes3.index\n",
    "Earthquakes3 = Earthquakes3.rename(columns={'eventTime': 'Noccurences'})\n",
    "Earthquakes3.reset_index(inplace=True, drop=True)\n",
    "Earthquakes3.head()\n"
   ]
  },
  {
   "cell_type": "code",
   "execution_count": null,
   "id": "bad1b2a7",
   "metadata": {},
   "outputs": [],
   "source": []
  },
  {
   "cell_type": "code",
   "execution_count": 22,
   "id": "e039f6d4",
   "metadata": {},
   "outputs": [
    {
     "data": {
      "text/html": [
       "<div>\n",
       "<style scoped>\n",
       "    .dataframe tbody tr th:only-of-type {\n",
       "        vertical-align: middle;\n",
       "    }\n",
       "\n",
       "    .dataframe tbody tr th {\n",
       "        vertical-align: top;\n",
       "    }\n",
       "\n",
       "    .dataframe thead th {\n",
       "        text-align: right;\n",
       "    }\n",
       "</style>\n",
       "<table border=\"1\" class=\"dataframe\">\n",
       "  <thead>\n",
       "    <tr style=\"text-align: right;\">\n",
       "      <th></th>\n",
       "      <th>Noccurences</th>\n",
       "      <th>Date</th>\n",
       "    </tr>\n",
       "  </thead>\n",
       "  <tbody>\n",
       "    <tr>\n",
       "      <th>24945</th>\n",
       "      <td>1</td>\n",
       "      <td>1901-03-03</td>\n",
       "    </tr>\n",
       "    <tr>\n",
       "      <th>22173</th>\n",
       "      <td>1</td>\n",
       "      <td>1900-10-29</td>\n",
       "    </tr>\n",
       "    <tr>\n",
       "      <th>24944</th>\n",
       "      <td>1</td>\n",
       "      <td>1900-10-09</td>\n",
       "    </tr>\n",
       "    <tr>\n",
       "      <th>22172</th>\n",
       "      <td>1</td>\n",
       "      <td>1900-07-29</td>\n",
       "    </tr>\n",
       "    <tr>\n",
       "      <th>24931</th>\n",
       "      <td>1</td>\n",
       "      <td>1900-04-30</td>\n",
       "    </tr>\n",
       "  </tbody>\n",
       "</table>\n",
       "</div>"
      ],
      "text/plain": [
       "       Noccurences        Date\n",
       "24945            1  1901-03-03\n",
       "22173            1  1900-10-29\n",
       "24944            1  1900-10-09\n",
       "22172            1  1900-07-29\n",
       "24931            1  1900-04-30"
      ]
     },
     "execution_count": 22,
     "metadata": {},
     "output_type": "execute_result"
    }
   ],
   "source": [
    "Earthquakes3.sort_values(by='Date', ascending = False, inplace = True) \n",
    "Earthquakes3.tail()"
   ]
  },
  {
   "cell_type": "code",
   "execution_count": 50,
   "id": "c4530261",
   "metadata": {},
   "outputs": [
    {
     "data": {
      "text/html": [
       "<div>\n",
       "<style scoped>\n",
       "    .dataframe tbody tr th:only-of-type {\n",
       "        vertical-align: middle;\n",
       "    }\n",
       "\n",
       "    .dataframe tbody tr th {\n",
       "        vertical-align: top;\n",
       "    }\n",
       "\n",
       "    .dataframe thead th {\n",
       "        text-align: right;\n",
       "    }\n",
       "</style>\n",
       "<table border=\"1\" class=\"dataframe\">\n",
       "  <thead>\n",
       "    <tr style=\"text-align: right;\">\n",
       "      <th></th>\n",
       "      <th>Noccurences</th>\n",
       "      <th>Date</th>\n",
       "    </tr>\n",
       "  </thead>\n",
       "  <tbody>\n",
       "    <tr>\n",
       "      <th>24945</th>\n",
       "      <td>1</td>\n",
       "      <td>1901-03-03</td>\n",
       "    </tr>\n",
       "    <tr>\n",
       "      <th>22173</th>\n",
       "      <td>1</td>\n",
       "      <td>1900-10-29</td>\n",
       "    </tr>\n",
       "    <tr>\n",
       "      <th>24944</th>\n",
       "      <td>1</td>\n",
       "      <td>1900-10-09</td>\n",
       "    </tr>\n",
       "    <tr>\n",
       "      <th>22172</th>\n",
       "      <td>1</td>\n",
       "      <td>1900-07-29</td>\n",
       "    </tr>\n",
       "    <tr>\n",
       "      <th>24931</th>\n",
       "      <td>1</td>\n",
       "      <td>1900-04-30</td>\n",
       "    </tr>\n",
       "  </tbody>\n",
       "</table>\n",
       "</div>"
      ],
      "text/plain": [
       "       Noccurences       Date\n",
       "24945            1 1901-03-03\n",
       "22173            1 1900-10-29\n",
       "24944            1 1900-10-09\n",
       "22172            1 1900-07-29\n",
       "24931            1 1900-04-30"
      ]
     },
     "execution_count": 50,
     "metadata": {},
     "output_type": "execute_result"
    }
   ],
   "source": [
    "Earthquakes3.tail()"
   ]
  },
  {
   "cell_type": "code",
   "execution_count": 45,
   "id": "29e2da34",
   "metadata": {},
   "outputs": [
    {
     "data": {
      "text/plain": [
       "(25558, 2)"
      ]
     },
     "execution_count": 45,
     "metadata": {},
     "output_type": "execute_result"
    }
   ],
   "source": [
    "Earthquakes3.shape"
   ]
  },
  {
   "cell_type": "code",
   "execution_count": 46,
   "id": "74a0f9fe",
   "metadata": {},
   "outputs": [
    {
     "data": {
      "text/plain": [
       "Noccurences     int64\n",
       "Date           object\n",
       "dtype: object"
      ]
     },
     "execution_count": 46,
     "metadata": {},
     "output_type": "execute_result"
    }
   ],
   "source": [
    "Earthquakes3.dtypes"
   ]
  },
  {
   "cell_type": "code",
   "execution_count": 47,
   "id": "77c936cf",
   "metadata": {},
   "outputs": [],
   "source": [
    "Earthquakes3['Date'] = pd.to_datetime(Earthquakes3['Date'])"
   ]
  },
  {
   "cell_type": "code",
   "execution_count": 48,
   "id": "adb32d71",
   "metadata": {},
   "outputs": [
    {
     "data": {
      "text/plain": [
       "Noccurences             int64\n",
       "Date           datetime64[ns]\n",
       "dtype: object"
      ]
     },
     "execution_count": 48,
     "metadata": {},
     "output_type": "execute_result"
    }
   ],
   "source": [
    "Earthquakes3.dtypes"
   ]
  },
  {
   "cell_type": "code",
   "execution_count": 51,
   "id": "74fdcacf",
   "metadata": {},
   "outputs": [
    {
     "data": {
      "text/html": [
       "<div>\n",
       "<style scoped>\n",
       "    .dataframe tbody tr th:only-of-type {\n",
       "        vertical-align: middle;\n",
       "    }\n",
       "\n",
       "    .dataframe tbody tr th {\n",
       "        vertical-align: top;\n",
       "    }\n",
       "\n",
       "    .dataframe thead th {\n",
       "        text-align: right;\n",
       "    }\n",
       "</style>\n",
       "<table border=\"1\" class=\"dataframe\">\n",
       "  <thead>\n",
       "    <tr style=\"text-align: right;\">\n",
       "      <th></th>\n",
       "      <th>Noccurences</th>\n",
       "      <th>Date</th>\n",
       "    </tr>\n",
       "  </thead>\n",
       "  <tbody>\n",
       "    <tr>\n",
       "      <th>12078</th>\n",
       "      <td>17</td>\n",
       "      <td>2024-01-08</td>\n",
       "    </tr>\n",
       "    <tr>\n",
       "      <th>8915</th>\n",
       "      <td>23</td>\n",
       "      <td>2024-01-07</td>\n",
       "    </tr>\n",
       "    <tr>\n",
       "      <th>14971</th>\n",
       "      <td>12</td>\n",
       "      <td>2024-01-06</td>\n",
       "    </tr>\n",
       "    <tr>\n",
       "      <th>11289</th>\n",
       "      <td>18</td>\n",
       "      <td>2024-01-05</td>\n",
       "    </tr>\n",
       "    <tr>\n",
       "      <th>8356</th>\n",
       "      <td>24</td>\n",
       "      <td>2024-01-04</td>\n",
       "    </tr>\n",
       "  </tbody>\n",
       "</table>\n",
       "</div>"
      ],
      "text/plain": [
       "       Noccurences       Date\n",
       "12078           17 2024-01-08\n",
       "8915            23 2024-01-07\n",
       "14971           12 2024-01-06\n",
       "11289           18 2024-01-05\n",
       "8356            24 2024-01-04"
      ]
     },
     "execution_count": 51,
     "metadata": {},
     "output_type": "execute_result"
    }
   ],
   "source": [
    "Earthquakes3.head()"
   ]
  },
  {
   "cell_type": "code",
   "execution_count": 52,
   "id": "3e05a7f7",
   "metadata": {},
   "outputs": [],
   "source": [
    "Earthquakes3.to_csv('Earthquakes3.csv')"
   ]
  },
  {
   "cell_type": "code",
   "execution_count": null,
   "id": "16032445",
   "metadata": {},
   "outputs": [],
   "source": []
  },
  {
   "cell_type": "code",
   "execution_count": 67,
   "id": "463cafd8",
   "metadata": {},
   "outputs": [],
   "source": [
    "#read distance between earth and other planets"
   ]
  },
  {
   "cell_type": "code",
   "execution_count": 71,
   "id": "1787612f",
   "metadata": {},
   "outputs": [],
   "source": [
    "# file = open(\"jupiter_Earth.txt\", \"r\")\n",
    "# content = file.read()\n",
    "# print(content)\n",
    "# file.close()"
   ]
  },
  {
   "cell_type": "code",
   "execution_count": 67,
   "id": "94ea9425",
   "metadata": {},
   "outputs": [],
   "source": [
    "import re\n",
    "import datetime\n",
    "\n",
    "# Create an empty DataFrame with column names\n",
    "DataFrame_JupEarth = pd.DataFrame(columns=['Date', 'Jupiter_Earth'])\n",
    "\n",
    "file = open(\"jupiter_Earth.txt\", \"r\")\n",
    "i=0\n",
    "while True:\n",
    "    content=file.readline()\n",
    "    if not content:\n",
    "        break\n",
    "#     print(content)\n",
    "    r1 = re.findall(r\"\\d{4}/\\d{2}/\\d{2}\",content)\n",
    "    r2=re.findall(r\"\\,.*?\\],\",content)\n",
    "    r3=re.findall(r\"\\,.*?\\]\",r2[0][1:])\n",
    "    #################################################\n",
    "    format = '%Y/%m/%d'\n",
    "    # convert from string format to datetime format\n",
    "    Dt = datetime.datetime.strptime(r1[0], format)\n",
    "#     Dt=r1[0]\n",
    "    Dis=float(r3[0][1:-1])\n",
    "    \n",
    "#     print(Dt.date())\n",
    "#     print(Dis)\n",
    "    DataFrame_JupEarth.loc[i] = [Dt.date(),Dis]\n",
    "    \n",
    "    i=i+1  \n",
    "\n",
    "file.close()"
   ]
  },
  {
   "cell_type": "code",
   "execution_count": 68,
   "id": "4781cb8e",
   "metadata": {},
   "outputs": [],
   "source": [
    "DataFrame_JupEarth.shape\n",
    "DataFrame_JupEarth['Date'] = pd.to_datetime(DataFrame_JupEarth['Date'])"
   ]
  },
  {
   "cell_type": "code",
   "execution_count": 69,
   "id": "f0105f37",
   "metadata": {},
   "outputs": [
    {
     "data": {
      "text/plain": [
       "(23740, 2)"
      ]
     },
     "execution_count": 69,
     "metadata": {},
     "output_type": "execute_result"
    }
   ],
   "source": [
    "DataFrame_JupEarth.shape"
   ]
  },
  {
   "cell_type": "code",
   "execution_count": 70,
   "id": "50223867",
   "metadata": {},
   "outputs": [
    {
     "data": {
      "text/plain": [
       "Date             datetime64[ns]\n",
       "Jupiter_Earth           float64\n",
       "dtype: object"
      ]
     },
     "execution_count": 70,
     "metadata": {},
     "output_type": "execute_result"
    }
   ],
   "source": [
    "DataFrame_JupEarth.dtypes"
   ]
  },
  {
   "cell_type": "code",
   "execution_count": 71,
   "id": "6c6230e7",
   "metadata": {},
   "outputs": [
    {
     "data": {
      "text/html": [
       "<div>\n",
       "<style scoped>\n",
       "    .dataframe tbody tr th:only-of-type {\n",
       "        vertical-align: middle;\n",
       "    }\n",
       "\n",
       "    .dataframe tbody tr th {\n",
       "        vertical-align: top;\n",
       "    }\n",
       "\n",
       "    .dataframe thead th {\n",
       "        text-align: right;\n",
       "    }\n",
       "</style>\n",
       "<table border=\"1\" class=\"dataframe\">\n",
       "  <thead>\n",
       "    <tr style=\"text-align: right;\">\n",
       "      <th></th>\n",
       "      <th>Date</th>\n",
       "      <th>Jupiter_Earth</th>\n",
       "    </tr>\n",
       "  </thead>\n",
       "  <tbody>\n",
       "    <tr>\n",
       "      <th>0</th>\n",
       "      <td>1970-01-03</td>\n",
       "      <td>5.71434</td>\n",
       "    </tr>\n",
       "    <tr>\n",
       "      <th>1</th>\n",
       "      <td>1970-01-05</td>\n",
       "      <td>5.68371</td>\n",
       "    </tr>\n",
       "    <tr>\n",
       "      <th>2</th>\n",
       "      <td>1970-01-07</td>\n",
       "      <td>5.65275</td>\n",
       "    </tr>\n",
       "    <tr>\n",
       "      <th>3</th>\n",
       "      <td>1970-01-09</td>\n",
       "      <td>5.62150</td>\n",
       "    </tr>\n",
       "    <tr>\n",
       "      <th>4</th>\n",
       "      <td>1970-01-11</td>\n",
       "      <td>5.58999</td>\n",
       "    </tr>\n",
       "  </tbody>\n",
       "</table>\n",
       "</div>"
      ],
      "text/plain": [
       "        Date  Jupiter_Earth\n",
       "0 1970-01-03        5.71434\n",
       "1 1970-01-05        5.68371\n",
       "2 1970-01-07        5.65275\n",
       "3 1970-01-09        5.62150\n",
       "4 1970-01-11        5.58999"
      ]
     },
     "execution_count": 71,
     "metadata": {},
     "output_type": "execute_result"
    }
   ],
   "source": [
    "DataFrame_JupEarth.head()"
   ]
  },
  {
   "cell_type": "code",
   "execution_count": 72,
   "id": "ccf5af79",
   "metadata": {},
   "outputs": [],
   "source": [
    "DataFrame_JupEarth.to_csv('DataFrame_JupEarth.csv')"
   ]
  },
  {
   "cell_type": "code",
   "execution_count": 58,
   "id": "97fb2aa2",
   "metadata": {},
   "outputs": [],
   "source": [
    "#mars-earth"
   ]
  },
  {
   "cell_type": "code",
   "execution_count": 73,
   "id": "94097c4a",
   "metadata": {},
   "outputs": [],
   "source": [
    "import re\n",
    "import datetime\n",
    "\n",
    "# Create an empty DataFrame with column names\n",
    "DataFrame_MarsEarth = pd.DataFrame(columns=['Date', 'Mars_Earth'])\n",
    "\n",
    "file = open(\"Mars_Earth.txt\", \"r\")\n",
    "i=0\n",
    "while True:\n",
    "    content=file.readline()\n",
    "    if not content:\n",
    "        break\n",
    "#     print(content)\n",
    "    r1 = re.findall(r\"\\d{4}/\\d{2}/\\d{2}\",content)\n",
    "    r2=re.findall(r\"\\,.*?\\],\",content)\n",
    "    r3=re.findall(r\"\\,.*?\\]\",r2[0][1:])\n",
    "    #################################################\n",
    "    format = '%Y/%m/%d'\n",
    "    # convert from string format to datetime format\n",
    "    Dt = datetime.datetime.strptime(r1[0], format)\n",
    "\n",
    "    Dis=float(r3[0][1:-1])\n",
    "\n",
    "    DataFrame_MarsEarth.loc[i] = [Dt.date(),Dis]\n",
    "    \n",
    "    i=i+1  \n",
    "\n",
    "file.close()"
   ]
  },
  {
   "cell_type": "code",
   "execution_count": 74,
   "id": "03863101",
   "metadata": {},
   "outputs": [
    {
     "data": {
      "text/plain": [
       "(23740, 2)"
      ]
     },
     "execution_count": 74,
     "metadata": {},
     "output_type": "execute_result"
    }
   ],
   "source": [
    "DataFrame_MarsEarth.shape"
   ]
  },
  {
   "cell_type": "code",
   "execution_count": 75,
   "id": "9c4b6f48",
   "metadata": {},
   "outputs": [],
   "source": [
    "DataFrame_MarsEarth['Date'] = pd.to_datetime(DataFrame_MarsEarth['Date'])"
   ]
  },
  {
   "cell_type": "code",
   "execution_count": 76,
   "id": "d663d64f",
   "metadata": {},
   "outputs": [
    {
     "data": {
      "text/plain": [
       "Date          datetime64[ns]\n",
       "Mars_Earth           float64\n",
       "dtype: object"
      ]
     },
     "execution_count": 76,
     "metadata": {},
     "output_type": "execute_result"
    }
   ],
   "source": [
    "DataFrame_MarsEarth.dtypes"
   ]
  },
  {
   "cell_type": "code",
   "execution_count": 77,
   "id": "140f06a5",
   "metadata": {},
   "outputs": [
    {
     "data": {
      "text/html": [
       "<div>\n",
       "<style scoped>\n",
       "    .dataframe tbody tr th:only-of-type {\n",
       "        vertical-align: middle;\n",
       "    }\n",
       "\n",
       "    .dataframe tbody tr th {\n",
       "        vertical-align: top;\n",
       "    }\n",
       "\n",
       "    .dataframe thead th {\n",
       "        text-align: right;\n",
       "    }\n",
       "</style>\n",
       "<table border=\"1\" class=\"dataframe\">\n",
       "  <thead>\n",
       "    <tr style=\"text-align: right;\">\n",
       "      <th></th>\n",
       "      <th>Date</th>\n",
       "      <th>Mars_Earth</th>\n",
       "    </tr>\n",
       "  </thead>\n",
       "  <tbody>\n",
       "    <tr>\n",
       "      <th>0</th>\n",
       "      <td>1970-01-03</td>\n",
       "      <td>1.59266</td>\n",
       "    </tr>\n",
       "    <tr>\n",
       "      <th>1</th>\n",
       "      <td>1970-01-05</td>\n",
       "      <td>1.60675</td>\n",
       "    </tr>\n",
       "    <tr>\n",
       "      <th>2</th>\n",
       "      <td>1970-01-07</td>\n",
       "      <td>1.62087</td>\n",
       "    </tr>\n",
       "    <tr>\n",
       "      <th>3</th>\n",
       "      <td>1970-01-09</td>\n",
       "      <td>1.63501</td>\n",
       "    </tr>\n",
       "    <tr>\n",
       "      <th>4</th>\n",
       "      <td>1970-01-11</td>\n",
       "      <td>1.64916</td>\n",
       "    </tr>\n",
       "  </tbody>\n",
       "</table>\n",
       "</div>"
      ],
      "text/plain": [
       "        Date  Mars_Earth\n",
       "0 1970-01-03     1.59266\n",
       "1 1970-01-05     1.60675\n",
       "2 1970-01-07     1.62087\n",
       "3 1970-01-09     1.63501\n",
       "4 1970-01-11     1.64916"
      ]
     },
     "execution_count": 77,
     "metadata": {},
     "output_type": "execute_result"
    }
   ],
   "source": [
    "DataFrame_MarsEarth.head()"
   ]
  },
  {
   "cell_type": "code",
   "execution_count": 78,
   "id": "cbcfd0c8",
   "metadata": {},
   "outputs": [],
   "source": [
    "DataFrame_MarsEarth.to_csv('DataFrame_MarsEarth.csv')"
   ]
  },
  {
   "cell_type": "code",
   "execution_count": 62,
   "id": "ac909e32",
   "metadata": {},
   "outputs": [],
   "source": [
    "#Mercure to Earth"
   ]
  },
  {
   "cell_type": "code",
   "execution_count": 114,
   "id": "722baf03",
   "metadata": {},
   "outputs": [],
   "source": [
    "import re\n",
    "import datetime\n",
    "\n",
    "# Create an empty DataFrame with column names\n",
    "DataFrame_MercureEarth = pd.DataFrame(columns=['Date', 'Mercure_Earth'])\n",
    "\n",
    "file = open(\"Mercure_Earth.txt\", \"r\")\n",
    "i=0\n",
    "while True:\n",
    "    content=file.readline()\n",
    "    if not content:\n",
    "        break\n",
    "#     print(content)\n",
    "    r1 = re.findall(r\"\\d{4}/\\d{2}/\\d{2}\",content)\n",
    "    r2=re.findall(r\"\\,.*?\\],\",content)\n",
    "    r3=re.findall(r\"\\,.*?\\]\",r2[0][1:])\n",
    "    #################################################\n",
    "    format = '%Y/%m/%d'\n",
    "    # convert from string format to datetime format\n",
    "    Dt = datetime.datetime.strptime(r1[0], format)\n",
    "\n",
    "    Dis=float(r3[0][1:-1])\n",
    "\n",
    "    DataFrame_MercureEarth.loc[i] = [Dt.date(),Dis]\n",
    "    \n",
    "    i=i+1  \n",
    "\n",
    "file.close()"
   ]
  },
  {
   "cell_type": "code",
   "execution_count": 115,
   "id": "f60b05d4",
   "metadata": {},
   "outputs": [
    {
     "data": {
      "text/plain": [
       "(23740, 2)"
      ]
     },
     "execution_count": 115,
     "metadata": {},
     "output_type": "execute_result"
    }
   ],
   "source": [
    "DataFrame_MercureEarth.shape"
   ]
  },
  {
   "cell_type": "code",
   "execution_count": 116,
   "id": "09feacac",
   "metadata": {},
   "outputs": [],
   "source": [
    "DataFrame_MercureEarth['Date'] = pd.to_datetime(DataFrame_MercureEarth['Date'])"
   ]
  },
  {
   "cell_type": "code",
   "execution_count": 117,
   "id": "f061c6e0",
   "metadata": {},
   "outputs": [
    {
     "data": {
      "text/plain": [
       "Date             datetime64[ns]\n",
       "Mercure_Earth           float64\n",
       "dtype: object"
      ]
     },
     "execution_count": 117,
     "metadata": {},
     "output_type": "execute_result"
    }
   ],
   "source": [
    "DataFrame_MercureEarth.dtypes"
   ]
  },
  {
   "cell_type": "code",
   "execution_count": 118,
   "id": "eb9a25a3",
   "metadata": {},
   "outputs": [
    {
     "data": {
      "text/html": [
       "<div>\n",
       "<style scoped>\n",
       "    .dataframe tbody tr th:only-of-type {\n",
       "        vertical-align: middle;\n",
       "    }\n",
       "\n",
       "    .dataframe tbody tr th {\n",
       "        vertical-align: top;\n",
       "    }\n",
       "\n",
       "    .dataframe thead th {\n",
       "        text-align: right;\n",
       "    }\n",
       "</style>\n",
       "<table border=\"1\" class=\"dataframe\">\n",
       "  <thead>\n",
       "    <tr style=\"text-align: right;\">\n",
       "      <th></th>\n",
       "      <th>Date</th>\n",
       "      <th>Mercure_Earth</th>\n",
       "    </tr>\n",
       "  </thead>\n",
       "  <tbody>\n",
       "    <tr>\n",
       "      <th>0</th>\n",
       "      <td>1970-01-03</td>\n",
       "      <td>0.83783</td>\n",
       "    </tr>\n",
       "    <tr>\n",
       "      <th>1</th>\n",
       "      <td>1970-01-05</td>\n",
       "      <td>0.78918</td>\n",
       "    </tr>\n",
       "    <tr>\n",
       "      <th>2</th>\n",
       "      <td>1970-01-07</td>\n",
       "      <td>0.74573</td>\n",
       "    </tr>\n",
       "    <tr>\n",
       "      <th>3</th>\n",
       "      <td>1970-01-09</td>\n",
       "      <td>0.71002</td>\n",
       "    </tr>\n",
       "    <tr>\n",
       "      <th>4</th>\n",
       "      <td>1970-01-11</td>\n",
       "      <td>0.68430</td>\n",
       "    </tr>\n",
       "  </tbody>\n",
       "</table>\n",
       "</div>"
      ],
      "text/plain": [
       "        Date  Mercure_Earth\n",
       "0 1970-01-03        0.83783\n",
       "1 1970-01-05        0.78918\n",
       "2 1970-01-07        0.74573\n",
       "3 1970-01-09        0.71002\n",
       "4 1970-01-11        0.68430"
      ]
     },
     "execution_count": 118,
     "metadata": {},
     "output_type": "execute_result"
    }
   ],
   "source": [
    "DataFrame_MercureEarth.head()"
   ]
  },
  {
   "cell_type": "code",
   "execution_count": 119,
   "id": "bf800ab7",
   "metadata": {},
   "outputs": [],
   "source": [
    "DataFrame_MercureEarth.to_csv('DataFrame_MercureEarth.csv')"
   ]
  },
  {
   "cell_type": "code",
   "execution_count": 84,
   "id": "dbe27323",
   "metadata": {},
   "outputs": [],
   "source": [
    "#Moon to Earth"
   ]
  },
  {
   "cell_type": "code",
   "execution_count": 85,
   "id": "95de3bce",
   "metadata": {},
   "outputs": [],
   "source": [
    "import re\n",
    "import datetime\n",
    "\n",
    "# Create an empty DataFrame with column names\n",
    "DataFrame_MoonEarth = pd.DataFrame(columns=['Date', 'Moon_Earth'])\n",
    "\n",
    "file = open(\"Moon_Earth.txt\", \"r\")\n",
    "i=0\n",
    "while True:\n",
    "    content=file.readline()\n",
    "    if not content:\n",
    "        break\n",
    "#     print(content)\n",
    "    r1 = re.findall(r\"\\d{4}/\\d{2}/\\d{2}\",content)\n",
    "    r2=re.findall(r\"\\,.*?\\],\",content)\n",
    "    r3=re.findall(r\"\\,.*?\\]\",r2[0][1:])\n",
    "    #################################################\n",
    "    format = '%Y/%m/%d'\n",
    "    # convert from string format to datetime format\n",
    "    Dt = datetime.datetime.strptime(r1[0], format)\n",
    "\n",
    "    Dis=float(r3[0][1:-1])\n",
    "\n",
    "    DataFrame_MoonEarth.loc[i] = [Dt.date(),Dis]\n",
    "    \n",
    "    i=i+1  \n",
    "\n",
    "file.close()"
   ]
  },
  {
   "cell_type": "code",
   "execution_count": 86,
   "id": "de28e581",
   "metadata": {},
   "outputs": [
    {
     "data": {
      "text/plain": [
       "(23740, 2)"
      ]
     },
     "execution_count": 86,
     "metadata": {},
     "output_type": "execute_result"
    }
   ],
   "source": [
    "DataFrame_MoonEarth.shape"
   ]
  },
  {
   "cell_type": "code",
   "execution_count": 87,
   "id": "8289e34d",
   "metadata": {},
   "outputs": [],
   "source": [
    "DataFrame_MoonEarth['Date'] = pd.to_datetime(DataFrame_MoonEarth['Date'])"
   ]
  },
  {
   "cell_type": "code",
   "execution_count": 88,
   "id": "33515f1e",
   "metadata": {},
   "outputs": [
    {
     "data": {
      "text/html": [
       "<div>\n",
       "<style scoped>\n",
       "    .dataframe tbody tr th:only-of-type {\n",
       "        vertical-align: middle;\n",
       "    }\n",
       "\n",
       "    .dataframe tbody tr th {\n",
       "        vertical-align: top;\n",
       "    }\n",
       "\n",
       "    .dataframe thead th {\n",
       "        text-align: right;\n",
       "    }\n",
       "</style>\n",
       "<table border=\"1\" class=\"dataframe\">\n",
       "  <thead>\n",
       "    <tr style=\"text-align: right;\">\n",
       "      <th></th>\n",
       "      <th>Date</th>\n",
       "      <th>Moon_Earth</th>\n",
       "    </tr>\n",
       "  </thead>\n",
       "  <tbody>\n",
       "    <tr>\n",
       "      <th>0</th>\n",
       "      <td>1970-01-03</td>\n",
       "      <td>0.00254</td>\n",
       "    </tr>\n",
       "    <tr>\n",
       "      <th>1</th>\n",
       "      <td>1970-01-05</td>\n",
       "      <td>0.00246</td>\n",
       "    </tr>\n",
       "    <tr>\n",
       "      <th>2</th>\n",
       "      <td>1970-01-07</td>\n",
       "      <td>0.00240</td>\n",
       "    </tr>\n",
       "    <tr>\n",
       "      <th>3</th>\n",
       "      <td>1970-01-09</td>\n",
       "      <td>0.00239</td>\n",
       "    </tr>\n",
       "    <tr>\n",
       "      <th>4</th>\n",
       "      <td>1970-01-11</td>\n",
       "      <td>0.00243</td>\n",
       "    </tr>\n",
       "  </tbody>\n",
       "</table>\n",
       "</div>"
      ],
      "text/plain": [
       "        Date  Moon_Earth\n",
       "0 1970-01-03     0.00254\n",
       "1 1970-01-05     0.00246\n",
       "2 1970-01-07     0.00240\n",
       "3 1970-01-09     0.00239\n",
       "4 1970-01-11     0.00243"
      ]
     },
     "execution_count": 88,
     "metadata": {},
     "output_type": "execute_result"
    }
   ],
   "source": [
    "DataFrame_MoonEarth.head()"
   ]
  },
  {
   "cell_type": "code",
   "execution_count": 89,
   "id": "fac8e88b",
   "metadata": {},
   "outputs": [],
   "source": [
    "DataFrame_MoonEarth.to_csv('DataFrame_MoonEarth.csv')"
   ]
  },
  {
   "cell_type": "code",
   "execution_count": 90,
   "id": "41dc3248",
   "metadata": {},
   "outputs": [],
   "source": [
    "# Neptune to Earth"
   ]
  },
  {
   "cell_type": "code",
   "execution_count": 91,
   "id": "a7c95c67",
   "metadata": {},
   "outputs": [],
   "source": [
    "import re\n",
    "import datetime\n",
    "\n",
    "# Create an empty DataFrame with column names\n",
    "DataFrame_NeptuneEarth = pd.DataFrame(columns=['Date', 'Neptune_Earth'])\n",
    "\n",
    "file = open(\"Neptune_earth.txt\", \"r\")\n",
    "i=0\n",
    "while True:\n",
    "    content=file.readline()\n",
    "    if not content:\n",
    "        break\n",
    "#     print(content)\n",
    "    r1 = re.findall(r\"\\d{4}/\\d{2}/\\d{2}\",content)\n",
    "    r2=re.findall(r\"\\,.*?\\],\",content)\n",
    "    r3=re.findall(r\"\\,.*?\\]\",r2[0][1:])\n",
    "    #################################################\n",
    "    format = '%Y/%m/%d'\n",
    "    # convert from string format to datetime format\n",
    "    Dt = datetime.datetime.strptime(r1[0], format)\n",
    "\n",
    "    Dis=float(r3[0][1:-1])\n",
    "\n",
    "    DataFrame_NeptuneEarth.loc[i] = [Dt.date(),Dis]\n",
    "    \n",
    "    i=i+1  \n",
    "\n",
    "file.close()"
   ]
  },
  {
   "cell_type": "code",
   "execution_count": 92,
   "id": "ef4fde8e",
   "metadata": {},
   "outputs": [
    {
     "data": {
      "text/plain": [
       "(23740, 2)"
      ]
     },
     "execution_count": 92,
     "metadata": {},
     "output_type": "execute_result"
    }
   ],
   "source": [
    "DataFrame_NeptuneEarth.shape"
   ]
  },
  {
   "cell_type": "code",
   "execution_count": 93,
   "id": "af7f6a58",
   "metadata": {},
   "outputs": [
    {
     "data": {
      "text/html": [
       "<div>\n",
       "<style scoped>\n",
       "    .dataframe tbody tr th:only-of-type {\n",
       "        vertical-align: middle;\n",
       "    }\n",
       "\n",
       "    .dataframe tbody tr th {\n",
       "        vertical-align: top;\n",
       "    }\n",
       "\n",
       "    .dataframe thead th {\n",
       "        text-align: right;\n",
       "    }\n",
       "</style>\n",
       "<table border=\"1\" class=\"dataframe\">\n",
       "  <thead>\n",
       "    <tr style=\"text-align: right;\">\n",
       "      <th></th>\n",
       "      <th>Date</th>\n",
       "      <th>Neptune_Earth</th>\n",
       "    </tr>\n",
       "  </thead>\n",
       "  <tbody>\n",
       "    <tr>\n",
       "      <th>0</th>\n",
       "      <td>1970-01-03</td>\n",
       "      <td>31.04389</td>\n",
       "    </tr>\n",
       "    <tr>\n",
       "      <th>1</th>\n",
       "      <td>1970-01-05</td>\n",
       "      <td>31.02007</td>\n",
       "    </tr>\n",
       "    <tr>\n",
       "      <th>2</th>\n",
       "      <td>1970-01-07</td>\n",
       "      <td>30.99540</td>\n",
       "    </tr>\n",
       "    <tr>\n",
       "      <th>3</th>\n",
       "      <td>1970-01-09</td>\n",
       "      <td>30.96991</td>\n",
       "    </tr>\n",
       "    <tr>\n",
       "      <th>4</th>\n",
       "      <td>1970-01-11</td>\n",
       "      <td>30.94363</td>\n",
       "    </tr>\n",
       "  </tbody>\n",
       "</table>\n",
       "</div>"
      ],
      "text/plain": [
       "        Date  Neptune_Earth\n",
       "0 1970-01-03       31.04389\n",
       "1 1970-01-05       31.02007\n",
       "2 1970-01-07       30.99540\n",
       "3 1970-01-09       30.96991\n",
       "4 1970-01-11       30.94363"
      ]
     },
     "execution_count": 93,
     "metadata": {},
     "output_type": "execute_result"
    }
   ],
   "source": [
    "DataFrame_NeptuneEarth['Date'] = pd.to_datetime(DataFrame_NeptuneEarth['Date'])\n",
    "DataFrame_NeptuneEarth.head()"
   ]
  },
  {
   "cell_type": "code",
   "execution_count": 94,
   "id": "4a7edc71",
   "metadata": {},
   "outputs": [],
   "source": [
    "DataFrame_NeptuneEarth.to_csv('DataFrame_NeptuneEarth.csv')"
   ]
  },
  {
   "cell_type": "code",
   "execution_count": 95,
   "id": "78a72f5c",
   "metadata": {},
   "outputs": [],
   "source": [
    "#saturne to Earth"
   ]
  },
  {
   "cell_type": "code",
   "execution_count": 96,
   "id": "2c88f886",
   "metadata": {},
   "outputs": [],
   "source": [
    "import re\n",
    "import datetime\n",
    "\n",
    "# Create an empty DataFrame with column names\n",
    "DataFrame_SaturneEarth = pd.DataFrame(columns=['Date', 'Saturne_Earth'])\n",
    "\n",
    "file = open(\"Saturne_Earth.txt\", \"r\")\n",
    "i=0\n",
    "while True:\n",
    "    content=file.readline()\n",
    "    if not content:\n",
    "        break\n",
    "#     print(content)\n",
    "    r1 = re.findall(r\"\\d{4}/\\d{2}/\\d{2}\",content)\n",
    "    r2=re.findall(r\"\\,.*?\\],\",content)\n",
    "    r3=re.findall(r\"\\,.*?\\]\",r2[0][1:])\n",
    "    #################################################\n",
    "    format = '%Y/%m/%d'\n",
    "    # convert from string format to datetime format\n",
    "    Dt = datetime.datetime.strptime(r1[0], format)\n",
    "\n",
    "    Dis=float(r3[0][1:-1])\n",
    "\n",
    "    DataFrame_SaturneEarth.loc[i] = [Dt.date(),Dis]\n",
    "    \n",
    "    i=i+1  \n",
    "\n",
    "file.close()"
   ]
  },
  {
   "cell_type": "code",
   "execution_count": 97,
   "id": "5b81d4a8",
   "metadata": {},
   "outputs": [
    {
     "data": {
      "text/plain": [
       "(23740, 2)"
      ]
     },
     "execution_count": 97,
     "metadata": {},
     "output_type": "execute_result"
    }
   ],
   "source": [
    "DataFrame_SaturneEarth.shape"
   ]
  },
  {
   "cell_type": "code",
   "execution_count": 98,
   "id": "d0e92986",
   "metadata": {},
   "outputs": [
    {
     "data": {
      "text/html": [
       "<div>\n",
       "<style scoped>\n",
       "    .dataframe tbody tr th:only-of-type {\n",
       "        vertical-align: middle;\n",
       "    }\n",
       "\n",
       "    .dataframe tbody tr th {\n",
       "        vertical-align: top;\n",
       "    }\n",
       "\n",
       "    .dataframe thead th {\n",
       "        text-align: right;\n",
       "    }\n",
       "</style>\n",
       "<table border=\"1\" class=\"dataframe\">\n",
       "  <thead>\n",
       "    <tr style=\"text-align: right;\">\n",
       "      <th></th>\n",
       "      <th>Date</th>\n",
       "      <th>Saturne_Earth</th>\n",
       "    </tr>\n",
       "  </thead>\n",
       "  <tbody>\n",
       "    <tr>\n",
       "      <th>0</th>\n",
       "      <td>1970-01-03</td>\n",
       "      <td>8.83384</td>\n",
       "    </tr>\n",
       "    <tr>\n",
       "      <th>1</th>\n",
       "      <td>1970-01-05</td>\n",
       "      <td>8.86526</td>\n",
       "    </tr>\n",
       "    <tr>\n",
       "      <th>2</th>\n",
       "      <td>1970-01-07</td>\n",
       "      <td>8.89705</td>\n",
       "    </tr>\n",
       "    <tr>\n",
       "      <th>3</th>\n",
       "      <td>1970-01-09</td>\n",
       "      <td>8.92917</td>\n",
       "    </tr>\n",
       "    <tr>\n",
       "      <th>4</th>\n",
       "      <td>1970-01-11</td>\n",
       "      <td>8.96156</td>\n",
       "    </tr>\n",
       "  </tbody>\n",
       "</table>\n",
       "</div>"
      ],
      "text/plain": [
       "        Date  Saturne_Earth\n",
       "0 1970-01-03        8.83384\n",
       "1 1970-01-05        8.86526\n",
       "2 1970-01-07        8.89705\n",
       "3 1970-01-09        8.92917\n",
       "4 1970-01-11        8.96156"
      ]
     },
     "execution_count": 98,
     "metadata": {},
     "output_type": "execute_result"
    }
   ],
   "source": [
    "DataFrame_SaturneEarth['Date'] = pd.to_datetime(DataFrame_SaturneEarth['Date'])\n",
    "DataFrame_SaturneEarth.head()"
   ]
  },
  {
   "cell_type": "code",
   "execution_count": 99,
   "id": "e5d96171",
   "metadata": {},
   "outputs": [],
   "source": [
    "DataFrame_SaturneEarth.to_csv('DataFrame_SaturneEarth.csv')"
   ]
  },
  {
   "cell_type": "code",
   "execution_count": 100,
   "id": "3999dfd4",
   "metadata": {},
   "outputs": [],
   "source": [
    "#sun to earth"
   ]
  },
  {
   "cell_type": "code",
   "execution_count": 101,
   "id": "2e10c411",
   "metadata": {},
   "outputs": [],
   "source": [
    "import re\n",
    "import datetime\n",
    "# Create an empty DataFrame with column names\n",
    "DataFrame_SunEarth = pd.DataFrame(columns=['Date', 'Sun_Earth'])\n",
    "\n",
    "file = open(\"Sun_Earth.txt\", \"r\")\n",
    "i=0\n",
    "while True:\n",
    "    content=file.readline()\n",
    "    if not content:\n",
    "        break\n",
    "#     print(content)\n",
    "    r1 = re.findall(r\"\\d{4}/\\d{2}/\\d{2}\",content)\n",
    "    r2=re.findall(r\"\\,.*?\\],\",content)\n",
    "    r3=re.findall(r\"\\,.*?\\]\",r2[0][1:])\n",
    "    #################################################\n",
    "    format = '%Y/%m/%d'\n",
    "    # convert from string format to datetime format\n",
    "    Dt = datetime.datetime.strptime(r1[0], format)\n",
    "\n",
    "    Dis=float(r3[0][1:-1])\n",
    "\n",
    "    DataFrame_SunEarth.loc[i] = [Dt.date(),Dis]\n",
    "    i=i+1\n",
    "\n",
    "file.close()"
   ]
  },
  {
   "cell_type": "code",
   "execution_count": 102,
   "id": "1f96ed77",
   "metadata": {},
   "outputs": [
    {
     "data": {
      "text/plain": [
       "(23740, 2)"
      ]
     },
     "execution_count": 102,
     "metadata": {},
     "output_type": "execute_result"
    }
   ],
   "source": [
    "DataFrame_SunEarth.shape"
   ]
  },
  {
   "cell_type": "code",
   "execution_count": 103,
   "id": "59aff45c",
   "metadata": {},
   "outputs": [],
   "source": [
    "DataFrame_SunEarth['Date'] = pd.to_datetime(DataFrame_SunEarth['Date'])\n",
    "DataFrame_SunEarth.head()\n",
    "\n",
    "DataFrame_SunEarth.to_csv('DataFrame_SunEarth.csv')"
   ]
  },
  {
   "cell_type": "code",
   "execution_count": 104,
   "id": "a8ece00d",
   "metadata": {},
   "outputs": [],
   "source": [
    "#Uranius to earth"
   ]
  },
  {
   "cell_type": "code",
   "execution_count": 105,
   "id": "f521505a",
   "metadata": {},
   "outputs": [],
   "source": [
    "import re\n",
    "import datetime\n",
    "# Create an empty DataFrame with column names\n",
    "DataFrame_UranEarth = pd.DataFrame(columns=['Date', 'Uran_Earth'])\n",
    "\n",
    "file = open(\"Uranius_Earth.txt\", \"r\")\n",
    "i=0\n",
    "while True:\n",
    "    content=file.readline()\n",
    "    if not content:\n",
    "        break\n",
    "#     print(content)\n",
    "    r1 = re.findall(r\"\\d{4}/\\d{2}/\\d{2}\",content)\n",
    "    r2=re.findall(r\"\\,.*?\\],\",content)\n",
    "    r3=re.findall(r\"\\,.*?\\]\",r2[0][1:])\n",
    "    #################################################\n",
    "    format = '%Y/%m/%d'\n",
    "    # convert from string format to datetime format\n",
    "    Dt = datetime.datetime.strptime(r1[0], format)\n",
    "\n",
    "    Dis=float(r3[0][1:-1])\n",
    "\n",
    "    DataFrame_UranEarth.loc[i] = [Dt.date(),Dis]\n",
    "    i=i+1\n",
    "\n",
    "file.close()"
   ]
  },
  {
   "cell_type": "code",
   "execution_count": 107,
   "id": "683aa19b",
   "metadata": {},
   "outputs": [
    {
     "data": {
      "text/plain": [
       "(23740, 2)"
      ]
     },
     "execution_count": 107,
     "metadata": {},
     "output_type": "execute_result"
    }
   ],
   "source": [
    "DataFrame_UranEarth.shape"
   ]
  },
  {
   "cell_type": "code",
   "execution_count": 108,
   "id": "fafb3af6",
   "metadata": {},
   "outputs": [],
   "source": [
    "DataFrame_UranEarth['Date'] = pd.to_datetime(DataFrame_UranEarth['Date'])\n",
    "DataFrame_UranEarth.head()\n",
    "\n",
    "DataFrame_UranEarth.to_csv('DataFrame_UranEarth.csv')"
   ]
  },
  {
   "cell_type": "code",
   "execution_count": 109,
   "id": "e1d777c7",
   "metadata": {},
   "outputs": [
    {
     "data": {
      "text/html": [
       "<div>\n",
       "<style scoped>\n",
       "    .dataframe tbody tr th:only-of-type {\n",
       "        vertical-align: middle;\n",
       "    }\n",
       "\n",
       "    .dataframe tbody tr th {\n",
       "        vertical-align: top;\n",
       "    }\n",
       "\n",
       "    .dataframe thead th {\n",
       "        text-align: right;\n",
       "    }\n",
       "</style>\n",
       "<table border=\"1\" class=\"dataframe\">\n",
       "  <thead>\n",
       "    <tr style=\"text-align: right;\">\n",
       "      <th></th>\n",
       "      <th>Date</th>\n",
       "      <th>Uran_Earth</th>\n",
       "    </tr>\n",
       "  </thead>\n",
       "  <tbody>\n",
       "    <tr>\n",
       "      <th>0</th>\n",
       "      <td>1970-01-03</td>\n",
       "      <td>18.23127</td>\n",
       "    </tr>\n",
       "    <tr>\n",
       "      <th>1</th>\n",
       "      <td>1970-01-05</td>\n",
       "      <td>18.19692</td>\n",
       "    </tr>\n",
       "    <tr>\n",
       "      <th>2</th>\n",
       "      <td>1970-01-07</td>\n",
       "      <td>18.16268</td>\n",
       "    </tr>\n",
       "    <tr>\n",
       "      <th>3</th>\n",
       "      <td>1970-01-09</td>\n",
       "      <td>18.12860</td>\n",
       "    </tr>\n",
       "    <tr>\n",
       "      <th>4</th>\n",
       "      <td>1970-01-11</td>\n",
       "      <td>18.09472</td>\n",
       "    </tr>\n",
       "  </tbody>\n",
       "</table>\n",
       "</div>"
      ],
      "text/plain": [
       "        Date  Uran_Earth\n",
       "0 1970-01-03    18.23127\n",
       "1 1970-01-05    18.19692\n",
       "2 1970-01-07    18.16268\n",
       "3 1970-01-09    18.12860\n",
       "4 1970-01-11    18.09472"
      ]
     },
     "execution_count": 109,
     "metadata": {},
     "output_type": "execute_result"
    }
   ],
   "source": [
    "DataFrame_UranEarth.head()"
   ]
  },
  {
   "cell_type": "code",
   "execution_count": 110,
   "id": "3dc0612c",
   "metadata": {},
   "outputs": [],
   "source": [
    "import re\n",
    "import datetime\n",
    "# Create an empty DataFrame with column names\n",
    "DataFrame_venusEarth = pd.DataFrame(columns=['Date', 'venus_Earth'])\n",
    "\n",
    "file = open(\"venus_Earth.txt\", \"r\")\n",
    "i=0\n",
    "while True:\n",
    "    content=file.readline()\n",
    "    if not content:\n",
    "        break\n",
    "#     print(content)\n",
    "    r1 = re.findall(r\"\\d{4}/\\d{2}/\\d{2}\",content)\n",
    "    r2=re.findall(r\"\\,.*?\\],\",content)\n",
    "    r3=re.findall(r\"\\,.*?\\]\",r2[0][1:])\n",
    "    #################################################\n",
    "    format = '%Y/%m/%d'\n",
    "    # convert from string format to datetime format\n",
    "    Dt = datetime.datetime.strptime(r1[0], format)\n",
    "\n",
    "    Dis=float(r3[0][1:-1])\n",
    "\n",
    "    DataFrame_venusEarth.loc[i] = [Dt.date(),Dis]\n",
    "    i=i+1\n",
    "\n",
    "file.close()"
   ]
  },
  {
   "cell_type": "code",
   "execution_count": 111,
   "id": "499140eb",
   "metadata": {},
   "outputs": [
    {
     "data": {
      "text/plain": [
       "(23740, 2)"
      ]
     },
     "execution_count": 111,
     "metadata": {},
     "output_type": "execute_result"
    }
   ],
   "source": [
    "DataFrame_venusEarth.shape"
   ]
  },
  {
   "cell_type": "code",
   "execution_count": 112,
   "id": "1e295790",
   "metadata": {},
   "outputs": [],
   "source": [
    "DataFrame_venusEarth['Date'] = pd.to_datetime(DataFrame_venusEarth['Date'])\n",
    "DataFrame_venusEarth.to_csv('DataFrame_venusEarth.csv')"
   ]
  },
  {
   "cell_type": "code",
   "execution_count": 113,
   "id": "5f5cda23",
   "metadata": {},
   "outputs": [
    {
     "data": {
      "text/html": [
       "<div>\n",
       "<style scoped>\n",
       "    .dataframe tbody tr th:only-of-type {\n",
       "        vertical-align: middle;\n",
       "    }\n",
       "\n",
       "    .dataframe tbody tr th {\n",
       "        vertical-align: top;\n",
       "    }\n",
       "\n",
       "    .dataframe thead th {\n",
       "        text-align: right;\n",
       "    }\n",
       "</style>\n",
       "<table border=\"1\" class=\"dataframe\">\n",
       "  <thead>\n",
       "    <tr style=\"text-align: right;\">\n",
       "      <th></th>\n",
       "      <th>Date</th>\n",
       "      <th>venus_Earth</th>\n",
       "    </tr>\n",
       "  </thead>\n",
       "  <tbody>\n",
       "    <tr>\n",
       "      <th>0</th>\n",
       "      <td>1970-01-03</td>\n",
       "      <td>1.70068</td>\n",
       "    </tr>\n",
       "    <tr>\n",
       "      <th>1</th>\n",
       "      <td>1970-01-05</td>\n",
       "      <td>1.70254</td>\n",
       "    </tr>\n",
       "    <tr>\n",
       "      <th>2</th>\n",
       "      <td>1970-01-07</td>\n",
       "      <td>1.70423</td>\n",
       "    </tr>\n",
       "    <tr>\n",
       "      <th>3</th>\n",
       "      <td>1970-01-09</td>\n",
       "      <td>1.70576</td>\n",
       "    </tr>\n",
       "    <tr>\n",
       "      <th>4</th>\n",
       "      <td>1970-01-11</td>\n",
       "      <td>1.70713</td>\n",
       "    </tr>\n",
       "  </tbody>\n",
       "</table>\n",
       "</div>"
      ],
      "text/plain": [
       "        Date  venus_Earth\n",
       "0 1970-01-03      1.70068\n",
       "1 1970-01-05      1.70254\n",
       "2 1970-01-07      1.70423\n",
       "3 1970-01-09      1.70576\n",
       "4 1970-01-11      1.70713"
      ]
     },
     "execution_count": 113,
     "metadata": {},
     "output_type": "execute_result"
    }
   ],
   "source": [
    "DataFrame_venusEarth.head()"
   ]
  },
  {
   "cell_type": "code",
   "execution_count": null,
   "id": "ebd668ee",
   "metadata": {},
   "outputs": [],
   "source": []
  }
 ],
 "metadata": {
  "kernelspec": {
   "display_name": "Python 3 (ipykernel)",
   "language": "python",
   "name": "python3"
  },
  "language_info": {
   "codemirror_mode": {
    "name": "ipython",
    "version": 3
   },
   "file_extension": ".py",
   "mimetype": "text/x-python",
   "name": "python",
   "nbconvert_exporter": "python",
   "pygments_lexer": "ipython3",
   "version": "3.7.0"
  }
 },
 "nbformat": 4,
 "nbformat_minor": 5
}
