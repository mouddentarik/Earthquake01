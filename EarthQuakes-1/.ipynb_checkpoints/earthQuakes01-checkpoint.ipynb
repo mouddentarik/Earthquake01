{
 "cells": [
  {
   "cell_type": "code",
   "execution_count": 1,
   "id": "753d0741",
   "metadata": {},
   "outputs": [],
   "source": [
    "%matplotlib inline\n",
    "\n",
    "import matplotlib.pyplot as plt\n",
    "import pandas as pd\n",
    "import numpy as np\n",
    "import csv\n",
    "import plotly.express as px\n",
    "\n",
    "from sklearn.model_selection import train_test_split\n",
    "from sklearn.preprocessing import StandardScaler\n",
    "\n",
    "from datetime import datetime\n",
    "from sklearn.cluster import KMeans\n",
    "import seaborn as sns"
   ]
  },
  {
   "cell_type": "code",
   "execution_count": 12,
   "id": "c0cb5190",
   "metadata": {},
   "outputs": [],
   "source": [
    "Earthquakes1 = pd.read_csv(\"earthquakes1.txt\", delimiter = ';') \n",
    "  \n",
    "# storing this dataframe in a csv file \n",
    "Earthquakes1.to_csv('earthquakes1.csv', index = None)"
   ]
  },
  {
   "cell_type": "code",
   "execution_count": 13,
   "id": "8b9f1aea",
   "metadata": {},
   "outputs": [
    {
     "data": {
      "text/plain": [
       "(483270, 11)"
      ]
     },
     "execution_count": 13,
     "metadata": {},
     "output_type": "execute_result"
    }
   ],
   "source": [
    "Earthquakes1.shape"
   ]
  },
  {
   "cell_type": "code",
   "execution_count": 14,
   "id": "717fa2ae",
   "metadata": {},
   "outputs": [
    {
     "data": {
      "text/html": [
       "<div>\n",
       "<style scoped>\n",
       "    .dataframe tbody tr th:only-of-type {\n",
       "        vertical-align: middle;\n",
       "    }\n",
       "\n",
       "    .dataframe tbody tr th {\n",
       "        vertical-align: top;\n",
       "    }\n",
       "\n",
       "    .dataframe thead th {\n",
       "        text-align: right;\n",
       "    }\n",
       "</style>\n",
       "<table border=\"1\" class=\"dataframe\">\n",
       "  <thead>\n",
       "    <tr style=\"text-align: right;\">\n",
       "      <th></th>\n",
       "      <th>XCoord</th>\n",
       "      <th>YCoord</th>\n",
       "      <th>mag</th>\n",
       "      <th>magType</th>\n",
       "      <th>place</th>\n",
       "      <th>latitude</th>\n",
       "      <th>longitude</th>\n",
       "      <th>kmDepth</th>\n",
       "      <th>depth</th>\n",
       "      <th>eventTime</th>\n",
       "      <th>eventType</th>\n",
       "    </tr>\n",
       "  </thead>\n",
       "  <tbody>\n",
       "    <tr>\n",
       "      <th>0</th>\n",
       "      <td>67,98700000</td>\n",
       "      <td>38,29000000</td>\n",
       "      <td>4,600000</td>\n",
       "      <td>m</td>\n",
       "      <td>8 km ENE of Denov, Uzbekistan</td>\n",
       "      <td>38,290001</td>\n",
       "      <td>67,987000</td>\n",
       "      <td>45,700001</td>\n",
       "      <td>45,700001</td>\n",
       "      <td>2007-12-21 23:49:31</td>\n",
       "      <td>Earthquake</td>\n",
       "    </tr>\n",
       "    <tr>\n",
       "      <th>1</th>\n",
       "      <td>88,18000000</td>\n",
       "      <td>42,39200000</td>\n",
       "      <td>4,100000</td>\n",
       "      <td>m</td>\n",
       "      <td>102 km SW of Turpan, China</td>\n",
       "      <td>42,391998</td>\n",
       "      <td>88,180000</td>\n",
       "      <td>36,299999</td>\n",
       "      <td>36,299999</td>\n",
       "      <td>2007-11-18 11:35:20</td>\n",
       "      <td>Earthquake</td>\n",
       "    </tr>\n",
       "    <tr>\n",
       "      <th>2</th>\n",
       "      <td>166,25200000</td>\n",
       "      <td>-10,98800000</td>\n",
       "      <td>4,700000</td>\n",
       "      <td>m</td>\n",
       "      <td>57 km ESE of Lata, Solomon Islands</td>\n",
       "      <td>-10,988000</td>\n",
       "      <td>166,251999</td>\n",
       "      <td>183,300003</td>\n",
       "      <td>183,300003</td>\n",
       "      <td>2007-12-21 22:58:26</td>\n",
       "      <td>Earthquake</td>\n",
       "    </tr>\n",
       "    <tr>\n",
       "      <th>3</th>\n",
       "      <td>29,67600000</td>\n",
       "      <td>38,96700000</td>\n",
       "      <td>4,000000</td>\n",
       "      <td>m</td>\n",
       "      <td>Western Turkey</td>\n",
       "      <td>38,966999</td>\n",
       "      <td>29,676001</td>\n",
       "      <td>37,799999</td>\n",
       "      <td>37,799999</td>\n",
       "      <td>2007-11-18 10:48:28</td>\n",
       "      <td>Earthquake</td>\n",
       "    </tr>\n",
       "    <tr>\n",
       "      <th>4</th>\n",
       "      <td>178,37000000</td>\n",
       "      <td>-38,82000000</td>\n",
       "      <td>4,800000</td>\n",
       "      <td>ml</td>\n",
       "      <td>36 km ESE of Gisborne, New Zealand</td>\n",
       "      <td>-38,820000</td>\n",
       "      <td>178,369995</td>\n",
       "      <td>34,000000</td>\n",
       "      <td>34,000000</td>\n",
       "      <td>2007-12-21 22:35:11</td>\n",
       "      <td>Earthquake</td>\n",
       "    </tr>\n",
       "  </tbody>\n",
       "</table>\n",
       "</div>"
      ],
      "text/plain": [
       "         XCoord        YCoord       mag magType  \\\n",
       "0   67,98700000   38,29000000  4,600000       m   \n",
       "1   88,18000000   42,39200000  4,100000       m   \n",
       "2  166,25200000  -10,98800000  4,700000       m   \n",
       "3   29,67600000   38,96700000  4,000000       m   \n",
       "4  178,37000000  -38,82000000  4,800000      ml   \n",
       "\n",
       "                                place    latitude   longitude     kmDepth  \\\n",
       "0       8 km ENE of Denov, Uzbekistan   38,290001   67,987000   45,700001   \n",
       "1          102 km SW of Turpan, China   42,391998   88,180000   36,299999   \n",
       "2  57 km ESE of Lata, Solomon Islands  -10,988000  166,251999  183,300003   \n",
       "3                      Western Turkey   38,966999   29,676001   37,799999   \n",
       "4  36 km ESE of Gisborne, New Zealand  -38,820000  178,369995   34,000000   \n",
       "\n",
       "        depth            eventTime   eventType  \n",
       "0   45,700001  2007-12-21 23:49:31  Earthquake  \n",
       "1   36,299999  2007-11-18 11:35:20  Earthquake  \n",
       "2  183,300003  2007-12-21 22:58:26  Earthquake  \n",
       "3   37,799999  2007-11-18 10:48:28  Earthquake  \n",
       "4   34,000000  2007-12-21 22:35:11  Earthquake  "
      ]
     },
     "execution_count": 14,
     "metadata": {},
     "output_type": "execute_result"
    }
   ],
   "source": [
    "Earthquakes1.head()"
   ]
  },
  {
   "cell_type": "code",
   "execution_count": 15,
   "id": "c5390b06",
   "metadata": {},
   "outputs": [
    {
     "name": "stdout",
     "output_type": "stream",
     "text": [
      "XCoord\n",
      "YCoord\n",
      "mag\n",
      "magType\n",
      "place\n",
      "latitude\n",
      "longitude\n",
      "kmDepth\n",
      "depth\n",
      "eventTime\n",
      "eventType\n"
     ]
    }
   ],
   "source": [
    "#columns of dataframe\n",
    "for col in Earthquakes1.columns:\n",
    "    print(col)"
   ]
  },
  {
   "cell_type": "code",
   "execution_count": 16,
   "id": "d0939198",
   "metadata": {},
   "outputs": [],
   "source": [
    "# Remove three columns as index base\n",
    "Earthquakes1.drop(Earthquakes1.columns[[0, 1, 2,3,4,5,6,7,8]], axis=1, inplace=True)"
   ]
  },
  {
   "cell_type": "code",
   "execution_count": 17,
   "id": "c47eccad",
   "metadata": {},
   "outputs": [
    {
     "data": {
      "text/html": [
       "<div>\n",
       "<style scoped>\n",
       "    .dataframe tbody tr th:only-of-type {\n",
       "        vertical-align: middle;\n",
       "    }\n",
       "\n",
       "    .dataframe tbody tr th {\n",
       "        vertical-align: top;\n",
       "    }\n",
       "\n",
       "    .dataframe thead th {\n",
       "        text-align: right;\n",
       "    }\n",
       "</style>\n",
       "<table border=\"1\" class=\"dataframe\">\n",
       "  <thead>\n",
       "    <tr style=\"text-align: right;\">\n",
       "      <th></th>\n",
       "      <th>eventTime</th>\n",
       "      <th>eventType</th>\n",
       "    </tr>\n",
       "  </thead>\n",
       "  <tbody>\n",
       "    <tr>\n",
       "      <th>0</th>\n",
       "      <td>2007-12-21 23:49:31</td>\n",
       "      <td>Earthquake</td>\n",
       "    </tr>\n",
       "    <tr>\n",
       "      <th>1</th>\n",
       "      <td>2007-11-18 11:35:20</td>\n",
       "      <td>Earthquake</td>\n",
       "    </tr>\n",
       "    <tr>\n",
       "      <th>2</th>\n",
       "      <td>2007-12-21 22:58:26</td>\n",
       "      <td>Earthquake</td>\n",
       "    </tr>\n",
       "    <tr>\n",
       "      <th>3</th>\n",
       "      <td>2007-11-18 10:48:28</td>\n",
       "      <td>Earthquake</td>\n",
       "    </tr>\n",
       "    <tr>\n",
       "      <th>4</th>\n",
       "      <td>2007-12-21 22:35:11</td>\n",
       "      <td>Earthquake</td>\n",
       "    </tr>\n",
       "  </tbody>\n",
       "</table>\n",
       "</div>"
      ],
      "text/plain": [
       "             eventTime   eventType\n",
       "0  2007-12-21 23:49:31  Earthquake\n",
       "1  2007-11-18 11:35:20  Earthquake\n",
       "2  2007-12-21 22:58:26  Earthquake\n",
       "3  2007-11-18 10:48:28  Earthquake\n",
       "4  2007-12-21 22:35:11  Earthquake"
      ]
     },
     "execution_count": 17,
     "metadata": {},
     "output_type": "execute_result"
    }
   ],
   "source": [
    "Earthquakes1.head()"
   ]
  },
  {
   "cell_type": "code",
   "execution_count": 20,
   "id": "23f6867f",
   "metadata": {},
   "outputs": [
    {
     "data": {
      "text/plain": [
       "eventTime    object\n",
       "eventType    object\n",
       "dtype: object"
      ]
     },
     "execution_count": 20,
     "metadata": {},
     "output_type": "execute_result"
    }
   ],
   "source": [
    "Earthquakes1.dtypes"
   ]
  },
  {
   "cell_type": "code",
   "execution_count": 21,
   "id": "eca8a9a7",
   "metadata": {},
   "outputs": [],
   "source": [
    "# overwriting data after changing format\n",
    "Earthquakes1['eventTime']= pd.to_datetime(Earthquakes1['eventTime'])"
   ]
  },
  {
   "cell_type": "code",
   "execution_count": 22,
   "id": "58605de9",
   "metadata": {},
   "outputs": [
    {
     "data": {
      "text/plain": [
       "eventTime    datetime64[ns]\n",
       "eventType            object\n",
       "dtype: object"
      ]
     },
     "execution_count": 22,
     "metadata": {},
     "output_type": "execute_result"
    }
   ],
   "source": [
    "Earthquakes1.dtypes"
   ]
  },
  {
   "cell_type": "code",
   "execution_count": 24,
   "id": "8a525bc0",
   "metadata": {},
   "outputs": [
    {
     "data": {
      "text/html": [
       "<div>\n",
       "<style scoped>\n",
       "    .dataframe tbody tr th:only-of-type {\n",
       "        vertical-align: middle;\n",
       "    }\n",
       "\n",
       "    .dataframe tbody tr th {\n",
       "        vertical-align: top;\n",
       "    }\n",
       "\n",
       "    .dataframe thead th {\n",
       "        text-align: right;\n",
       "    }\n",
       "</style>\n",
       "<table border=\"1\" class=\"dataframe\">\n",
       "  <thead>\n",
       "    <tr style=\"text-align: right;\">\n",
       "      <th></th>\n",
       "      <th>eventTime</th>\n",
       "      <th>eventType</th>\n",
       "    </tr>\n",
       "  </thead>\n",
       "  <tbody>\n",
       "    <tr>\n",
       "      <th>0</th>\n",
       "      <td>2007-12-21 23:49:31</td>\n",
       "      <td>Earthquake</td>\n",
       "    </tr>\n",
       "    <tr>\n",
       "      <th>1</th>\n",
       "      <td>2007-11-18 11:35:20</td>\n",
       "      <td>Earthquake</td>\n",
       "    </tr>\n",
       "    <tr>\n",
       "      <th>2</th>\n",
       "      <td>2007-12-21 22:58:26</td>\n",
       "      <td>Earthquake</td>\n",
       "    </tr>\n",
       "    <tr>\n",
       "      <th>3</th>\n",
       "      <td>2007-11-18 10:48:28</td>\n",
       "      <td>Earthquake</td>\n",
       "    </tr>\n",
       "    <tr>\n",
       "      <th>4</th>\n",
       "      <td>2007-12-21 22:35:11</td>\n",
       "      <td>Earthquake</td>\n",
       "    </tr>\n",
       "  </tbody>\n",
       "</table>\n",
       "</div>"
      ],
      "text/plain": [
       "            eventTime   eventType\n",
       "0 2007-12-21 23:49:31  Earthquake\n",
       "1 2007-11-18 11:35:20  Earthquake\n",
       "2 2007-12-21 22:58:26  Earthquake\n",
       "3 2007-11-18 10:48:28  Earthquake\n",
       "4 2007-12-21 22:35:11  Earthquake"
      ]
     },
     "execution_count": 24,
     "metadata": {},
     "output_type": "execute_result"
    }
   ],
   "source": [
    "Earthquakes1.head()"
   ]
  },
  {
   "cell_type": "code",
   "execution_count": 25,
   "id": "22a896d1",
   "metadata": {},
   "outputs": [],
   "source": [
    "#removing the time component\n",
    "from datetime import datetime\n",
    "Earthquakes1['eventTime'] = Earthquakes1['eventTime'].apply(lambda x: x.date())"
   ]
  },
  {
   "cell_type": "code",
   "execution_count": 26,
   "id": "2cea5c20",
   "metadata": {},
   "outputs": [
    {
     "data": {
      "text/html": [
       "<div>\n",
       "<style scoped>\n",
       "    .dataframe tbody tr th:only-of-type {\n",
       "        vertical-align: middle;\n",
       "    }\n",
       "\n",
       "    .dataframe tbody tr th {\n",
       "        vertical-align: top;\n",
       "    }\n",
       "\n",
       "    .dataframe thead th {\n",
       "        text-align: right;\n",
       "    }\n",
       "</style>\n",
       "<table border=\"1\" class=\"dataframe\">\n",
       "  <thead>\n",
       "    <tr style=\"text-align: right;\">\n",
       "      <th></th>\n",
       "      <th>eventTime</th>\n",
       "      <th>eventType</th>\n",
       "    </tr>\n",
       "  </thead>\n",
       "  <tbody>\n",
       "    <tr>\n",
       "      <th>0</th>\n",
       "      <td>2007-12-21</td>\n",
       "      <td>Earthquake</td>\n",
       "    </tr>\n",
       "    <tr>\n",
       "      <th>1</th>\n",
       "      <td>2007-11-18</td>\n",
       "      <td>Earthquake</td>\n",
       "    </tr>\n",
       "    <tr>\n",
       "      <th>2</th>\n",
       "      <td>2007-12-21</td>\n",
       "      <td>Earthquake</td>\n",
       "    </tr>\n",
       "    <tr>\n",
       "      <th>3</th>\n",
       "      <td>2007-11-18</td>\n",
       "      <td>Earthquake</td>\n",
       "    </tr>\n",
       "    <tr>\n",
       "      <th>4</th>\n",
       "      <td>2007-12-21</td>\n",
       "      <td>Earthquake</td>\n",
       "    </tr>\n",
       "  </tbody>\n",
       "</table>\n",
       "</div>"
      ],
      "text/plain": [
       "    eventTime   eventType\n",
       "0  2007-12-21  Earthquake\n",
       "1  2007-11-18  Earthquake\n",
       "2  2007-12-21  Earthquake\n",
       "3  2007-11-18  Earthquake\n",
       "4  2007-12-21  Earthquake"
      ]
     },
     "execution_count": 26,
     "metadata": {},
     "output_type": "execute_result"
    }
   ],
   "source": [
    "Earthquakes1.head()"
   ]
  },
  {
   "cell_type": "code",
   "execution_count": null,
   "id": "54fca93f",
   "metadata": {},
   "outputs": [],
   "source": []
  }
 ],
 "metadata": {
  "kernelspec": {
   "display_name": "Python 3 (ipykernel)",
   "language": "python",
   "name": "python3"
  },
  "language_info": {
   "codemirror_mode": {
    "name": "ipython",
    "version": 3
   },
   "file_extension": ".py",
   "mimetype": "text/x-python",
   "name": "python",
   "nbconvert_exporter": "python",
   "pygments_lexer": "ipython3",
   "version": "3.7.0"
  }
 },
 "nbformat": 4,
 "nbformat_minor": 5
}
